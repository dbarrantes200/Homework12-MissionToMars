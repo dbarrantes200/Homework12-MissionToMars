{
 "cells": [
  {
   "cell_type": "markdown",
   "metadata": {},
   "source": [
    "# NASA Mars News\n",
    "#Scrape the NASA Mars News Site and collect the latest News Title and Paragraph Text. \n",
    "#Assign the text to variables that you can reference later.\n",
    "https://mars.nasa.gov/news/?page=0&per_page=40&order=publish_date+desc%2Ccreated_at+desc&search=&category=19%2C165%2C184%2C204&blank_scope=Latest\n",
    "# Example:\n",
    "#news_title = \"NASA's Next Mars Mission to Investigate Interior of Red Planet\"\n",
    "#news_p = \"Preparation of NASA's next spacecraft to Mars, InSight, has ramped up this summer, on course for launch next May #from Vandenberg Air Force Base in central California -- the first interplanetary launch in history from America's West Coast.\"\n"
   ]
  },
  {
   "cell_type": "code",
   "execution_count": 48,
   "metadata": {},
   "outputs": [],
   "source": [
    "# Dependencies\n",
    "from bs4 import BeautifulSoup\n",
    "from splinter import Browser\n",
    "from pprint import pprint\n",
    "import pymongo\n",
    "import pandas as pd\n",
    "import requests\n",
    "import time"
   ]
  },
  {
   "cell_type": "code",
   "execution_count": 33,
   "metadata": {},
   "outputs": [],
   "source": [
    "#url='http://mars.nasa.gov/news/'\n",
    "url= 'https://mars.nasa.gov/news/?page=0&per_page=40&order=publish_date+asc%2Ccreated_at+desc&search=&year=2019%3Apublish_date&category=19%2C165%2C184%2C204&blank_scope=Latest'\n",
    "#url = ('https://mars.nasa.gov/news/')\n"
   ]
  },
  {
   "cell_type": "code",
   "execution_count": 34,
   "metadata": {},
   "outputs": [],
   "source": [
    "executable_path = {'executable_path': 'chromedriver'}"
   ]
  },
  {
   "cell_type": "code",
   "execution_count": 35,
   "metadata": {},
   "outputs": [],
   "source": [
    "browser = Browser('chrome', **executable_path, headless=True)\n",
    "browser.visit(url)\n",
    "html = browser.html"
   ]
  },
  {
   "cell_type": "code",
   "execution_count": 36,
   "metadata": {},
   "outputs": [
    {
     "name": "stdout",
     "output_type": "stream",
     "text": [
      "Latest News Title\n",
      "Robotic Toolkit Added to NASA's Mars 2020 Rover\n",
      "----------------------\n",
      "Paragraph Text\n",
      "The bit carousel, which lies at the heart of the rover's Sample Caching System, is now aboard NASA's newest rover \n"
     ]
    }
   ],
   "source": [
    "soup = BeautifulSoup(html, 'html.parser')\n",
    "results = soup.find_all('div',class_='list_text')\n",
    "news_title=[]\n",
    "news_p=[]\n",
    "for result in results:\n",
    "      news_title.append(result.find(class_='content_title').text)\n",
    "      news_p.append(result.find(class_='article_teaser_body').text)\n",
    "      news_title = [x.replace('\\n', '') for x in news_title]\n",
    "      news_p = [x.replace('\\n', '') for x in news_p]\n",
    "      news_p = [x.replace('.', '') for x in news_p]\n",
    "newstitle=news_title[0]\n",
    "newsp=nasa_p[0]\n",
    "print('Latest News Title')\n",
    "print(newstitle)\n",
    "print('----------------------')\n",
    "print('Paragraph Text')\n",
    "print(newsp)"
   ]
  },
  {
   "cell_type": "markdown",
   "metadata": {},
   "source": [
    "# JPL Mars Space Images - Featured Image\n",
    "#Visit the url for JPL Featured Space Image here. https://www.jpl.nasa.gov/spaceimages/?search=&category=Mars\n",
    "#Use splinter to navigate the site and find the image url for the current Featured Mars Image and assign the url string to a variable called featured_image_url.\n",
    "#Make sure to find the image url to the full size .jpg image.\n",
    "#Make sure to save a complete url string for this image.\n",
    "#ex: featured_image_url = 'https://www.jpl.nasa.gov/spaceimages/images/largesize/PIA16225_hires.jpg'"
   ]
  },
  {
   "cell_type": "code",
   "execution_count": 37,
   "metadata": {},
   "outputs": [],
   "source": [
    "url = ('https://www.jpl.nasa.gov/spaceimages/?search=&category=Mars')\n",
    "\n",
    "response = requests.get(url)\n",
    "soup = BeautifulSoup(response.text, 'html.parser')"
   ]
  },
  {
   "cell_type": "code",
   "execution_count": 38,
   "metadata": {},
   "outputs": [],
   "source": [
    "# pull images from website\n",
    "images = soup.find_all('a', class_=\"fancybox\")\n",
    "#print(images)"
   ]
  },
  {
   "cell_type": "code",
   "execution_count": 39,
   "metadata": {},
   "outputs": [
    {
     "data": {
      "text/plain": [
       "'https://www.jpl.nasa.gov/spaceimages/images/largesize/PIA23323_hires.jpg'"
      ]
     },
     "execution_count": 39,
     "metadata": {},
     "output_type": "execute_result"
    }
   ],
   "source": [
    "# pull image link\n",
    "pic_src = []\n",
    "for image in images:\n",
    "    pic = image['data-fancybox-href']\n",
    "    pic_src.append(pic)\n",
    "\n",
    "featured_image_url = 'https://www.jpl.nasa.gov' + pic\n",
    "featured_image_url"
   ]
  },
  {
   "cell_type": "markdown",
   "metadata": {},
   "source": [
    "# Mars Weather\n",
    "#Visit the Mars Weather twitter account here and scrape the latest Mars weather tweet from the page. Save the tweet text for #the weather report as a variable called mars_weather.\n",
    "https://twitter.com/marswxreport?lang=en\n",
    "# Example:\n",
    "#mars_weather = 'Sol 1801 (Aug 30, 2017), Sunny, high -21C/-5F, low -80C/-112F, pressure at 8.82 hPa, daylight 06:09-17:55'"
   ]
  },
  {
   "cell_type": "code",
   "execution_count": 40,
   "metadata": {},
   "outputs": [],
   "source": [
    "url = ('https://twitter.com/marswxreport?lang=en')\n",
    "response = requests.get(url)\n",
    "soup = BeautifulSoup(response.text, 'html.parser')"
   ]
  },
  {
   "cell_type": "code",
   "execution_count": 41,
   "metadata": {},
   "outputs": [
    {
     "name": "stdout",
     "output_type": "stream",
     "text": [
      "<div class=\"content\">\n",
      "<div class=\"stream-item-header\">\n",
      "<a class=\"account-group js-account-group js-action-profile js-user-profile-link js-nav\" data-user-id=\"786939553\" href=\"/MarsWxReport\">\n",
      "<img alt=\"\" class=\"avatar js-action-profile-avatar\" src=\"https://pbs.twimg.com/profile_images/2552209293/220px-Mars_atmosphere_bigger.jpg\"/>\n",
      "<span class=\"FullNameGroup\">\n",
      "<strong class=\"fullname show-popup-with-id u-textTruncate\" data-aria-label-part=\"\">Mars Weather</strong><span>‏</span><span class=\"UserBadges\"></span><span class=\"UserNameBreak\"> </span></span><span class=\"username u-dir u-textTruncate\" data-aria-label-part=\"\" dir=\"ltr\">@<b>MarsWxReport</b></span></a>\n",
      "<small class=\"time\">\n",
      "<a class=\"tweet-timestamp js-permalink js-nav js-tooltip\" data-conversation-id=\"1159091775602143233\" href=\"/MarsWxReport/status/1159091775602143233\" title=\"6:19 AM - 7 Aug 2019\"><span class=\"_timestamp js-short-timestamp\" data-aria-label-part=\"last\" data-long-form=\"true\" data-time=\"1565183988\" data-time-ms=\"1565183988000\">Aug 7</span></a>\n",
      "</small>\n",
      "<div class=\"ProfileTweet-action ProfileTweet-action--more js-more-ProfileTweet-actions\">\n",
      "<div class=\"dropdown\">\n",
      "<button class=\"ProfileTweet-actionButton u-textUserColorHover dropdown-toggle js-dropdown-toggle\" type=\"button\">\n",
      "<div class=\"IconContainer js-tooltip\" title=\"More\">\n",
      "<span class=\"Icon Icon--caretDownLight Icon--small\"></span>\n",
      "<span class=\"u-hiddenVisually\">More</span>\n",
      "</div>\n",
      "</button>\n",
      "<div class=\"dropdown-menu is-autoCentered\">\n",
      "<div class=\"dropdown-caret\">\n",
      "<div class=\"caret-outer\"></div>\n",
      "<div class=\"caret-inner\"></div>\n",
      "</div>\n",
      "<ul>\n",
      "<li class=\"copy-link-to-tweet js-actionCopyLinkToTweet\">\n",
      "<button class=\"dropdown-link\" type=\"button\">Copy link to Tweet</button>\n",
      "</li>\n",
      "<li class=\"embed-link js-actionEmbedTweet\" data-nav=\"embed_tweet\">\n",
      "<button class=\"dropdown-link\" type=\"button\">Embed Tweet</button>\n",
      "</li>\n",
      "</ul>\n",
      "</div>\n",
      "</div>\n",
      "</div>\n",
      "</div>\n",
      "<div class=\"js-tweet-text-container\">\n",
      "<p class=\"TweetTextSize TweetTextSize--normal js-tweet-text tweet-text\" data-aria-label-part=\"0\" lang=\"en\">InSight sol 241 (2019-07-31) low -100.5ºC (-148.9ºF) high -26.2ºC (-15.2ºF)\n",
      "winds from the SSE at 4.6 m/s (10.2 mph) gusting to 16.2 m/s (36.2 mph)\n",
      "pressure at 7.60 hPa</p>\n",
      "</div>\n",
      "<div class=\"stream-item-footer\">\n",
      "<div class=\"ProfileTweet-actionCountList u-hiddenVisually\">\n",
      "<span class=\"ProfileTweet-action--reply u-hiddenVisually\">\n",
      "<span aria-hidden=\"true\" class=\"ProfileTweet-actionCount\" data-tweet-stat-count=\"0\">\n",
      "<span class=\"ProfileTweet-actionCountForAria\" id=\"profile-tweet-action-reply-count-aria-1159091775602143233\">0 replies</span>\n",
      "</span>\n",
      "</span>\n",
      "<span class=\"ProfileTweet-action--retweet u-hiddenVisually\">\n",
      "<span class=\"ProfileTweet-actionCount\" data-tweet-stat-count=\"4\">\n",
      "<span class=\"ProfileTweet-actionCountForAria\" data-aria-label-part=\"\" id=\"profile-tweet-action-retweet-count-aria-1159091775602143233\">4 retweets</span>\n",
      "</span>\n",
      "</span>\n",
      "<span class=\"ProfileTweet-action--favorite u-hiddenVisually\">\n",
      "<span class=\"ProfileTweet-actionCount\" data-tweet-stat-count=\"9\">\n",
      "<span class=\"ProfileTweet-actionCountForAria\" data-aria-label-part=\"\" id=\"profile-tweet-action-favorite-count-aria-1159091775602143233\">9 likes</span>\n",
      "</span>\n",
      "</span>\n",
      "</div>\n",
      "<div aria-label=\"Tweet actions\" class=\"ProfileTweet-actionList js-actions\" role=\"group\">\n",
      "<div class=\"ProfileTweet-action ProfileTweet-action--reply\">\n",
      "<button aria-describedby=\"profile-tweet-action-reply-count-aria-1159091775602143233\" class=\"ProfileTweet-actionButton js-actionButton js-actionReply\" data-modal=\"ProfileTweet-reply\" type=\"button\">\n",
      "<div class=\"IconContainer js-tooltip\" title=\"Reply\">\n",
      "<span class=\"Icon Icon--medium Icon--reply\"></span>\n",
      "<span class=\"u-hiddenVisually\">Reply</span>\n",
      "</div>\n",
      "<span class=\"ProfileTweet-actionCount ProfileTweet-actionCount--isZero\">\n",
      "<span aria-hidden=\"true\" class=\"ProfileTweet-actionCountForPresentation\"></span>\n",
      "</span>\n",
      "</button>\n",
      "</div>\n",
      "<div class=\"ProfileTweet-action ProfileTweet-action--retweet js-toggleState js-toggleRt\">\n",
      "<button aria-describedby=\"profile-tweet-action-retweet-count-aria-1159091775602143233\" class=\"ProfileTweet-actionButton js-actionButton js-actionRetweet\" data-modal=\"ProfileTweet-retweet\" type=\"button\">\n",
      "<div class=\"IconContainer js-tooltip\" title=\"Retweet\">\n",
      "<span class=\"Icon Icon--medium Icon--retweet\"></span>\n",
      "<span class=\"u-hiddenVisually\">Retweet</span>\n",
      "</div>\n",
      "<span class=\"ProfileTweet-actionCount\">\n",
      "<span aria-hidden=\"true\" class=\"ProfileTweet-actionCountForPresentation\">4</span>\n",
      "</span>\n",
      "</button><button class=\"ProfileTweet-actionButtonUndo js-actionButton js-actionRetweet\" data-modal=\"ProfileTweet-retweet\" type=\"button\">\n",
      "<div class=\"IconContainer js-tooltip\" title=\"Undo retweet\">\n",
      "<span class=\"Icon Icon--medium Icon--retweet\"></span>\n",
      "<span class=\"u-hiddenVisually\">Retweeted</span>\n",
      "</div>\n",
      "<span class=\"ProfileTweet-actionCount\">\n",
      "<span aria-hidden=\"true\" class=\"ProfileTweet-actionCountForPresentation\">4</span>\n",
      "</span>\n",
      "</button>\n",
      "</div>\n",
      "<div class=\"ProfileTweet-action ProfileTweet-action--favorite js-toggleState\">\n",
      "<button aria-describedby=\"profile-tweet-action-favorite-count-aria-1159091775602143233\" class=\"ProfileTweet-actionButton js-actionButton js-actionFavorite\" type=\"button\">\n",
      "<div class=\"IconContainer js-tooltip\" title=\"Like\">\n",
      "<span class=\"Icon Icon--heart Icon--medium\" role=\"presentation\"></span>\n",
      "<div class=\"HeartAnimation\"></div>\n",
      "<span class=\"u-hiddenVisually\">Like</span>\n",
      "</div>\n",
      "<span class=\"ProfileTweet-actionCount\">\n",
      "<span aria-hidden=\"true\" class=\"ProfileTweet-actionCountForPresentation\">9</span>\n",
      "</span>\n",
      "</button><button class=\"ProfileTweet-actionButtonUndo ProfileTweet-action--unfavorite u-linkClean js-actionButton js-actionFavorite\" type=\"button\">\n",
      "<div class=\"IconContainer js-tooltip\" title=\"Undo like\">\n",
      "<span class=\"Icon Icon--heart Icon--medium\" role=\"presentation\"></span>\n",
      "<div class=\"HeartAnimation\"></div>\n",
      "<span class=\"u-hiddenVisually\">Liked</span>\n",
      "</div>\n",
      "<span class=\"ProfileTweet-actionCount\">\n",
      "<span aria-hidden=\"true\" class=\"ProfileTweet-actionCountForPresentation\">9</span>\n",
      "</span>\n",
      "</button>\n",
      "</div>\n",
      "</div>\n",
      "</div>\n",
      "</div>\n"
     ]
    }
   ],
   "source": [
    "contents = soup.find_all(\"div\",class_=\"content\")\n",
    "print(content)"
   ]
  },
  {
   "cell_type": "code",
   "execution_count": 42,
   "metadata": {},
   "outputs": [
    {
     "name": "stdout",
     "output_type": "stream",
     "text": [
      "I’d say a plutonium-238 powered RTG qualifies the Curiosity and Mars2020 rovers as alternative fuel vehicles. You can explore these and other missions, rockets and more with JPL’s Spacecraft AR for IOS and Androhttps://www.jpl.nasa.gov/apps/pic.twitter.com/f4SheTlQyY\n"
     ]
    }
   ],
   "source": [
    "weather_mars = []\n",
    "for content in contents:\n",
    "    tweet = content.find(\"p\", class_=\"TweetTextSize TweetTextSize--normal js-tweet-text tweet-text\").text\n",
    "    weather_mars.append(tweet)\n",
    "#print(weather_mars)\n",
    "\n",
    "mars_weather = weather_mars[8]\n",
    "print(mars_weather)"
   ]
  },
  {
   "cell_type": "code",
   "execution_count": 43,
   "metadata": {},
   "outputs": [
    {
     "name": "stdout",
     "output_type": "stream",
     "text": [
      "InSight sol 258 (2019-08-18) low -100.0ºC (-148.1ºF) high -26.2ºC (-15.2ºF)\n",
      "winds from the SSE at 5.3 m/s (11.9 mph) gusting to 16.8 m/s (37.6 mph)\n",
      "pressure at 7.60 hPapic.twitter.com/5nCVjcsmlZ\n"
     ]
    }
   ],
   "source": [
    "url=\"https://twitter.com/marswxreport?lang=en\"\n",
    "response=requests.get(url)\n",
    "soup= BeautifulSoup(response.text, 'lxml')\n",
    "results = soup.find('p',class_=\"TweetTextSize TweetTextSize--normal js-tweet-text tweet-text\").text\n",
    "print(results)"
   ]
  },
  {
   "cell_type": "markdown",
   "metadata": {},
   "source": [
    "# Mars Facts\n",
    "https://space-facts.com/mars/\n",
    "#Visit the Mars Facts webpage here and use Pandas to scrape the table containing facts about the planet including Diameter, #Mass, etc. Use Pandas to convert the data to a HTML table string."
   ]
  },
  {
   "cell_type": "code",
   "execution_count": 44,
   "metadata": {},
   "outputs": [
    {
     "data": {
      "text/html": [
       "<div>\n",
       "<style scoped>\n",
       "    .dataframe tbody tr th:only-of-type {\n",
       "        vertical-align: middle;\n",
       "    }\n",
       "\n",
       "    .dataframe tbody tr th {\n",
       "        vertical-align: top;\n",
       "    }\n",
       "\n",
       "    .dataframe thead th {\n",
       "        text-align: right;\n",
       "    }\n",
       "</style>\n",
       "<table border=\"1\" class=\"dataframe\">\n",
       "  <thead>\n",
       "    <tr style=\"text-align: right;\">\n",
       "      <th></th>\n",
       "      <th>Mars Measures</th>\n",
       "      <th>Mars Metrics</th>\n",
       "    </tr>\n",
       "  </thead>\n",
       "  <tbody>\n",
       "    <tr>\n",
       "      <th>0</th>\n",
       "      <td>Equatorial Diameter:</td>\n",
       "      <td>6,792 km</td>\n",
       "    </tr>\n",
       "    <tr>\n",
       "      <th>1</th>\n",
       "      <td>Polar Diameter:</td>\n",
       "      <td>6,752 km</td>\n",
       "    </tr>\n",
       "    <tr>\n",
       "      <th>2</th>\n",
       "      <td>Mass:</td>\n",
       "      <td>6.39 × 10^23 kg (0.11 Earths)</td>\n",
       "    </tr>\n",
       "    <tr>\n",
       "      <th>3</th>\n",
       "      <td>Moons:</td>\n",
       "      <td>2 (Phobos &amp; Deimos)</td>\n",
       "    </tr>\n",
       "    <tr>\n",
       "      <th>4</th>\n",
       "      <td>Orbit Distance:</td>\n",
       "      <td>227,943,824 km (1.38 AU)</td>\n",
       "    </tr>\n",
       "  </tbody>\n",
       "</table>\n",
       "</div>"
      ],
      "text/plain": [
       "          Mars Measures                   Mars Metrics\n",
       "0  Equatorial Diameter:                       6,792 km\n",
       "1       Polar Diameter:                       6,752 km\n",
       "2                 Mass:  6.39 × 10^23 kg (0.11 Earths)\n",
       "3                Moons:            2 (Phobos & Deimos)\n",
       "4       Orbit Distance:       227,943,824 km (1.38 AU)"
      ]
     },
     "execution_count": 44,
     "metadata": {},
     "output_type": "execute_result"
    }
   ],
   "source": [
    "#MarsFact\n",
    "url=\"https://space-facts.com/mars/\"\n",
    "tables = pd.read_html(url)\n",
    "df = tables[1]\n",
    "df.columns = ['Mars Measures', 'Mars Metrics']\n",
    "df=df.reset_index(inplace=False, drop=True)\n",
    "df.head()"
   ]
  },
  {
   "cell_type": "markdown",
   "metadata": {},
   "source": [
    "# Mars Hemispheres\n",
    "#Visit the USGS Astrogeology site here to obtain high resolution images for each of Mar's hemispheres.\n",
    "https://astrogeology.usgs.gov/search/results?q=hemisphere+enhanced&k1=target&v1=Mars\n",
    "#You will need to click each of the links to the hemispheres in order to find the image url to the full resolution image.\n",
    "#Save both the image url string for the full resolution hemisphere image, and the Hemisphere title containing the hemisphere #name. Use a Python dictionary to store the data using the keys img_url and title.\n",
    "#Append the dictionary with the image url string and the hemisphere title to a list. This list will contain one dictionary for #each hemisphere.\n",
    "# Example:\n",
    "hemisphere_image_urls = [\n",
    "    {\"title\": \"Valles Marineris Hemisphere\", \"img_url\": \"...\"},\n",
    "    {\"title\": \"Cerberus Hemisphere\", \"img_url\": \"...\"},\n",
    "    {\"title\": \"Schiaparelli Hemisphere\", \"img_url\": \"...\"},\n",
    "    {\"title\": \"Syrtis Major Hemisphere\", \"img_url\": \"...\"},]\n"
   ]
  },
  {
   "cell_type": "code",
   "execution_count": 85,
   "metadata": {},
   "outputs": [],
   "source": [
    "hemisphere_image_urls = []"
   ]
  },
  {
   "cell_type": "code",
   "execution_count": 86,
   "metadata": {},
   "outputs": [],
   "source": [
    "url = ('https://astrogeology.usgs.gov/search/map/Mars/Viking/cerberus_enhanced')\n",
    "#url= 'https://astrogeology.usgs.gov/search/results?q=hemisphere+enhanced&k1=target&v1=Mars'\n",
    "\n",
    "response = requests.get(url)\n",
    "soup = BeautifulSoup(response.text, 'html.parser')\n"
   ]
  },
  {
   "cell_type": "code",
   "execution_count": 87,
   "metadata": {},
   "outputs": [
    {
     "name": "stdout",
     "output_type": "stream",
     "text": [
      "[<div class=\"wide-image-wrapper\" id=\"wide-image\">\n",
      "<div class=\"downloads\">\n",
      "<img class=\"thumb\" src=\"/cache/images/dfaf3849e74bf973b59eb50dab52b583_cerberus_enhanced.tif_thumb.png\"/>\n",
      "<h3>Download</h3>\n",
      "<ul>\n",
      "<li><a href=\"http://astropedia.astrogeology.usgs.gov/download/Mars/Viking/cerberus_enhanced.tif/full.jpg\" target=\"_blank\">Sample</a> (jpg) 1024px wide</li>\n",
      "<li><a href=\"http://astropedia.astrogeology.usgs.gov/download/Mars/Viking/cerberus_enhanced.tif\" target=\"_blank\">Original</a> (tif) 21 MB</li>\n",
      "</ul>\n",
      "</div>\n",
      "<img class=\"wide-image\" src=\"/cache/images/cfa62af2557222a02478f1fcd781d445_cerberus_enhanced.tif_full.jpg\"/>\n",
      "<a class=\"open-toggle\" href=\"#open\" id=\"wide-image-toggle\">Open</a>\n",
      "</div>]\n"
     ]
    }
   ],
   "source": [
    "cerberus_img = soup.find_all('div', class_=\"wide-image-wrapper\")\n",
    "print(cerberus_img)"
   ]
  },
  {
   "cell_type": "code",
   "execution_count": 88,
   "metadata": {},
   "outputs": [
    {
     "name": "stdout",
     "output_type": "stream",
     "text": [
      "http://astropedia.astrogeology.usgs.gov/download/Mars/Viking/cerberus_enhanced.tif/full.jpg\n",
      "Cerberus Hemisphere Enhanced\n",
      "{'title': 'Cerberus Hemisphere Enhanced', 'image_url': 'http://astropedia.astrogeology.usgs.gov/download/Mars/Viking/cerberus_enhanced.tif/full.jpg'}\n"
     ]
    }
   ],
   "source": [
    "for img in cerberus_img:\n",
    "    pic = img.find('li')\n",
    "    full_img = pic.find('a')['href']\n",
    "    print(full_img)\n",
    "cerberus_title = soup.find('h2', class_='title').text\n",
    "print(cerberus_title)\n",
    "cerberus_hem = {\"title\": cerberus_title, \"image_url\": full_img}\n",
    "print(cerberus_hem)"
   ]
  },
  {
   "cell_type": "code",
   "execution_count": 89,
   "metadata": {},
   "outputs": [],
   "source": [
    "url = ('https://astrogeology.usgs.gov/search/map/Mars/Viking/schiaparelli_enhanced')\n",
    "\n",
    "response = requests.get(url)\n",
    "soup = BeautifulSoup(response.text, 'html.parser')"
   ]
  },
  {
   "cell_type": "code",
   "execution_count": 90,
   "metadata": {},
   "outputs": [
    {
     "name": "stdout",
     "output_type": "stream",
     "text": [
      "[<div class=\"wide-image-wrapper\" id=\"wide-image\">\n",
      "<div class=\"downloads\">\n",
      "<img class=\"thumb\" src=\"/cache/images/7677c0a006b83871b5a2f66985ab5857_schiaparelli_enhanced.tif_thumb.png\"/>\n",
      "<h3>Download</h3>\n",
      "<ul>\n",
      "<li><a href=\"http://astropedia.astrogeology.usgs.gov/download/Mars/Viking/schiaparelli_enhanced.tif/full.jpg\" target=\"_blank\">Sample</a> (jpg) 1024px wide</li>\n",
      "<li><a href=\"http://astropedia.astrogeology.usgs.gov/download/Mars/Viking/schiaparelli_enhanced.tif\" target=\"_blank\">Original</a> (tif) 35 MB</li>\n",
      "</ul>\n",
      "</div>\n",
      "<img class=\"wide-image\" src=\"/cache/images/3cdd1cbf5e0813bba925c9030d13b62e_schiaparelli_enhanced.tif_full.jpg\"/>\n",
      "<a class=\"open-toggle\" href=\"#open\" id=\"wide-image-toggle\">Open</a>\n",
      "</div>]\n"
     ]
    }
   ],
   "source": [
    "shiaparelli_img = soup.find_all('div', class_=\"wide-image-wrapper\")\n",
    "print(shiaparelli_img)"
   ]
  },
  {
   "cell_type": "code",
   "execution_count": 91,
   "metadata": {},
   "outputs": [
    {
     "name": "stdout",
     "output_type": "stream",
     "text": [
      "http://astropedia.astrogeology.usgs.gov/download/Mars/Viking/schiaparelli_enhanced.tif/full.jpg\n",
      "Schiaparelli Hemisphere Enhanced\n",
      "{'title': 'Schiaparelli Hemisphere Enhanced', 'image_url': 'http://astropedia.astrogeology.usgs.gov/download/Mars/Viking/schiaparelli_enhanced.tif/full.jpg'}\n"
     ]
    }
   ],
   "source": [
    "for img in shiaparelli_img:\n",
    "    pic = img.find('li')\n",
    "    full_img = pic.find('a')['href']\n",
    "    print(full_img)\n",
    "shiaparelli_title = soup.find('h2', class_='title').text\n",
    "print(shiaparelli_title)\n",
    "shiaparelli_hem = {\"title\": shiaparelli_title, \"image_url\": full_img}\n",
    "print(shiaparelli_hem)"
   ]
  },
  {
   "cell_type": "code",
   "execution_count": 92,
   "metadata": {},
   "outputs": [],
   "source": [
    "url = ('https://astrogeology.usgs.gov/search/map/Mars/Viking/syrtis_major_enhanced')\n",
    "\n",
    "response = requests.get(url)\n",
    "soup = BeautifulSoup(response.text, 'html.parser')"
   ]
  },
  {
   "cell_type": "code",
   "execution_count": 93,
   "metadata": {},
   "outputs": [
    {
     "name": "stdout",
     "output_type": "stream",
     "text": [
      "[<div class=\"wide-image-wrapper\" id=\"wide-image\">\n",
      "<div class=\"downloads\">\n",
      "<img class=\"thumb\" src=\"/cache/images/aae41197e40d6d4f3ea557f8cfe51d15_syrtis_major_enhanced.tif_thumb.png\"/>\n",
      "<h3>Download</h3>\n",
      "<ul>\n",
      "<li><a href=\"http://astropedia.astrogeology.usgs.gov/download/Mars/Viking/syrtis_major_enhanced.tif/full.jpg\" target=\"_blank\">Sample</a> (jpg) 1024px wide</li>\n",
      "<li><a href=\"http://astropedia.astrogeology.usgs.gov/download/Mars/Viking/syrtis_major_enhanced.tif\" target=\"_blank\">Original</a> (tif) 25 MB</li>\n",
      "</ul>\n",
      "</div>\n",
      "<img class=\"wide-image\" src=\"/cache/images/ae209b4e408bb6c3e67b6af38168cf28_syrtis_major_enhanced.tif_full.jpg\"/>\n",
      "<a class=\"open-toggle\" href=\"#open\" id=\"wide-image-toggle\">Open</a>\n",
      "</div>]\n"
     ]
    }
   ],
   "source": [
    "syrtris_img = soup.find_all('div', class_=\"wide-image-wrapper\")\n",
    "print(syrtris_img)"
   ]
  },
  {
   "cell_type": "code",
   "execution_count": 94,
   "metadata": {},
   "outputs": [
    {
     "name": "stdout",
     "output_type": "stream",
     "text": [
      "http://astropedia.astrogeology.usgs.gov/download/Mars/Viking/syrtis_major_enhanced.tif/full.jpg\n",
      "Syrtis Major Hemisphere Enhanced\n",
      "{'title': 'Syrtis Major Hemisphere Enhanced', 'image_url': 'http://astropedia.astrogeology.usgs.gov/download/Mars/Viking/syrtis_major_enhanced.tif/full.jpg'}\n"
     ]
    }
   ],
   "source": [
    "for img in syrtris_img:\n",
    "    pic = img.find('li')\n",
    "    full_img = pic.find('a')['href']\n",
    "    print(full_img)\n",
    "syrtris_title = soup.find('h2', class_='title').text\n",
    "print(syrtris_title)\n",
    "syrtris_hem = {\"title\": syrtris_title, \"image_url\": full_img}\n",
    "print(syrtris_hem)"
   ]
  },
  {
   "cell_type": "code",
   "execution_count": 95,
   "metadata": {},
   "outputs": [],
   "source": [
    "url = ('https://astrogeology.usgs.gov/search/map/Mars/Viking/valles_marineris_enhanced')\n",
    "\n",
    "response = requests.get(url)\n",
    "soup = BeautifulSoup(response.text, 'html.parser')\n"
   ]
  },
  {
   "cell_type": "code",
   "execution_count": 96,
   "metadata": {},
   "outputs": [
    {
     "name": "stdout",
     "output_type": "stream",
     "text": [
      "[<div class=\"wide-image-wrapper\" id=\"wide-image\">\n",
      "<div class=\"downloads\">\n",
      "<img class=\"thumb\" src=\"/cache/images/04085d99ec3713883a9a57f42be9c725_valles_marineris_enhanced.tif_thumb.png\"/>\n",
      "<h3>Download</h3>\n",
      "<ul>\n",
      "<li><a href=\"http://astropedia.astrogeology.usgs.gov/download/Mars/Viking/valles_marineris_enhanced.tif/full.jpg\" target=\"_blank\">Sample</a> (jpg) 1024px wide</li>\n",
      "<li><a href=\"http://astropedia.astrogeology.usgs.gov/download/Mars/Viking/valles_marineris_enhanced.tif\" target=\"_blank\">Original</a> (tif) 27 MB</li>\n",
      "</ul>\n",
      "</div>\n",
      "<img class=\"wide-image\" src=\"/cache/images/7cf2da4bf549ed01c17f206327be4db7_valles_marineris_enhanced.tif_full.jpg\"/>\n",
      "<a class=\"open-toggle\" href=\"#open\" id=\"wide-image-toggle\">Open</a>\n",
      "</div>]\n"
     ]
    }
   ],
   "source": [
    "valles_marineris_img = soup.find_all('div', class_=\"wide-image-wrapper\")\n",
    "print(valles_marineris_img)"
   ]
  },
  {
   "cell_type": "code",
   "execution_count": 97,
   "metadata": {},
   "outputs": [
    {
     "name": "stdout",
     "output_type": "stream",
     "text": [
      "http://astropedia.astrogeology.usgs.gov/download/Mars/Viking/valles_marineris_enhanced.tif/full.jpg\n",
      "Valles Marineris Hemisphere Enhanced\n",
      "{'Title': 'Valles Marineris Hemisphere Enhanced', 'image_url': 'http://astropedia.astrogeology.usgs.gov/download/Mars/Viking/valles_marineris_enhanced.tif/full.jpg'}\n"
     ]
    }
   ],
   "source": [
    "for img in valles_marineris_img:\n",
    "    pic = img.find('li')\n",
    "    full_img = pic.find('a')['href']\n",
    "    print(full_img)\n",
    "valles_marineris_title = soup.find('h2', class_='title').text\n",
    "print(valles_marineris_title)\n",
    "valles_marineris_hem = {\"Title\": valles_marineris_title, \"image_url\": full_img}\n",
    "print(valles_marineris_hem)"
   ]
  },
  {
   "cell_type": "code",
   "execution_count": 98,
   "metadata": {},
   "outputs": [
    {
     "name": "stdout",
     "output_type": "stream",
     "text": [
      "{'a': 10, 'b': 8, 'd': 6, 'c': 4}\n"
     ]
    }
   ],
   "source": [
    "def Merge(dict1, dict2): \n",
    "    res = {**dict1, **dict2} \n",
    "    return res \n",
    "      \n",
    "# Driver code \n",
    "dict1 = {'a': 10, 'b': 8} \n",
    "dict2 = {'d': 6, 'c': 4} \n",
    "dict3 = Merge(dict1, dict2) \n",
    "print(dict3) \n"
   ]
  },
  {
   "cell_type": "code",
   "execution_count": 103,
   "metadata": {},
   "outputs": [
    {
     "name": "stdout",
     "output_type": "stream",
     "text": [
      "Ceberus Hem {'title': 'Cerberus Hemisphere Enhanced', 'image_url': 'http://astropedia.astrogeology.usgs.gov/download/Mars/Viking/cerberus_enhanced.tif/full.jpg'}\n",
      "Shiaparelli {'title': 'Schiaparelli Hemisphere Enhanced', 'image_url': 'http://astropedia.astrogeology.usgs.gov/download/Mars/Viking/schiaparelli_enhanced.tif/full.jpg'}\n",
      "Syrtris {'title': 'Syrtis Major Hemisphere Enhanced', 'image_url': 'http://astropedia.astrogeology.usgs.gov/download/Mars/Viking/syrtis_major_enhanced.tif/full.jpg'}\n",
      "valles_marineris_hem {'Title': 'Valles Marineris Hemisphere Enhanced', 'image_url': 'http://astropedia.astrogeology.usgs.gov/download/Mars/Viking/valles_marineris_enhanced.tif/full.jpg'}\n"
     ]
    }
   ],
   "source": [
    "print(\"Ceberus Hem\" ,cerberus_hem)\n",
    "print('Shiaparelli',shiaparelli_hem)\n",
    "print('Syrtris', syrtris_hem)\n",
    "print('valles_marineris_hem', valles_marineris_hem)\n"
   ]
  },
  {
   "cell_type": "code",
   "execution_count": 104,
   "metadata": {},
   "outputs": [
    {
     "name": "stdout",
     "output_type": "stream",
     "text": [
      "{'title': 'Schiaparelli Hemisphere Enhanced', 'image_url': 'http://astropedia.astrogeology.usgs.gov/download/Mars/Viking/schiaparelli_enhanced.tif/full.jpg'}\n"
     ]
    }
   ],
   "source": [
    "def Merge(cerberus_hem, shiaparelli_hem): \n",
    "    res = {**cerberus_hem, **shiaparelli_hem} \n",
    "    return res \n",
    "      \n",
    "# Driver code \n",
    "temp = Merge(cerberus_hem, shiaparelli_hem) \n",
    "print(temp) "
   ]
  },
  {
   "cell_type": "code",
   "execution_count": 106,
   "metadata": {},
   "outputs": [
    {
     "name": "stdout",
     "output_type": "stream",
     "text": [
      "{'title': 'Syrtis Major Hemisphere Enhanced', 'image_url': 'http://astropedia.astrogeology.usgs.gov/download/Mars/Viking/valles_marineris_enhanced.tif/full.jpg', 'Title': 'Valles Marineris Hemisphere Enhanced'}\n"
     ]
    }
   ],
   "source": [
    "def Merge(cerberus_hem, shiaparelli_hem, syrtris_hem, valles_marineris_hem): \n",
    "    res = {**cerberus_hem, **shiaparelli_hem, **syrtris_hem, **valles_marineris_hem} \n",
    "    return res \n",
    "      \n",
    "# Driver code \n",
    "hemisphere_image_urls = Merge(cerberus_hem, shiaparelli_hem, syrtris_hem, valles_marineris_hem) \n",
    "print(hemisphere_image_urls) "
   ]
  },
  {
   "cell_type": "code",
   "execution_count": 49,
   "metadata": {},
   "outputs": [
    {
     "name": "stdout",
     "output_type": "stream",
     "text": [
      "http://astropedia.astrogeology.usgs.gov/download/Mars/Viking/cerberus_enhanced.tif/full.jpg\n",
      "http://astropedia.astrogeology.usgs.gov/download/Mars/Viking/schiaparelli_enhanced.tif/full.jpg\n",
      "http://astropedia.astrogeology.usgs.gov/download/Mars/Viking/syrtis_major_enhanced.tif/full.jpg\n",
      "http://astropedia.astrogeology.usgs.gov/download/Mars/Viking/valles_marineris_enhanced.tif/full.jpg\n"
     ]
    }
   ],
   "source": [
    "astrogeology_base='https://astrogeology.usgs.gov'\n",
    "url=\"https://astrogeology.usgs.gov/search/results?q=hemisphere+enhanced&k1=target&v1=Mars\"\n",
    "browser.visit(url)\n",
    "time.sleep(1)\n",
    "html = browser.html\n",
    "soup = BeautifulSoup(html, 'html.parser')\n",
    "results  = soup.find_all('div',class_=\"item\")\n",
    "#print(results)\n",
    "for result in results:\n",
    "       a=result.find('a')\n",
    "       jpg_url=astrogeology_base+a['href']\n",
    "       browser.visit(jpg_url)\n",
    "       time.sleep(1)\n",
    "       html = browser.html\n",
    "       soup = BeautifulSoup(html, 'html.parser')\n",
    "       li  = soup.find('li')\n",
    "       imge_url=li.find('a')['href']\n",
    "       print(imge_url)"
   ]
  },
  {
   "cell_type": "code",
   "execution_count": 107,
   "metadata": {},
   "outputs": [
    {
     "data": {
      "text/plain": [
       "{'title': 'Syrtis Major Hemisphere Enhanced',\n",
       " 'image_url': 'http://astropedia.astrogeology.usgs.gov/download/Mars/Viking/valles_marineris_enhanced.tif/full.jpg',\n",
       " 'Title': 'Valles Marineris Hemisphere Enhanced'}"
      ]
     },
     "execution_count": 107,
     "metadata": {},
     "output_type": "execute_result"
    }
   ],
   "source": [
    "hemisphere_image_urls"
   ]
  },
  {
   "cell_type": "code",
   "execution_count": 108,
   "metadata": {},
   "outputs": [
    {
     "name": "stdout",
     "output_type": "stream",
     "text": [
      "{'title': 'Cerberus Hemisphere Enhanced', 'image_url': 'http://astropedia.astrogeology.usgs.gov/download/Mars/Viking/cerberus_enhanced.tif/full.jpg'} {'title': 'Schiaparelli Hemisphere Enhanced', 'image_url': 'http://astropedia.astrogeology.usgs.gov/download/Mars/Viking/schiaparelli_enhanced.tif/full.jpg'} {'title': 'Syrtis Major Hemisphere Enhanced', 'image_url': 'http://astropedia.astrogeology.usgs.gov/download/Mars/Viking/syrtis_major_enhanced.tif/full.jpg'} {'Title': 'Valles Marineris Hemisphere Enhanced', 'image_url': 'http://astropedia.astrogeology.usgs.gov/download/Mars/Viking/valles_marineris_enhanced.tif/full.jpg'}\n"
     ]
    }
   ],
   "source": [
    "print(cerberus_hem, shiaparelli_hem, syrtris_hem, valles_marineris_hem) "
   ]
  },
  {
   "cell_type": "code",
   "execution_count": 109,
   "metadata": {},
   "outputs": [
    {
     "data": {
      "text/plain": [
       "({'title': 'Cerberus Hemisphere Enhanced',\n",
       "  'image_url': 'http://astropedia.astrogeology.usgs.gov/download/Mars/Viking/cerberus_enhanced.tif/full.jpg'},\n",
       " {'title': 'Schiaparelli Hemisphere Enhanced',\n",
       "  'image_url': 'http://astropedia.astrogeology.usgs.gov/download/Mars/Viking/schiaparelli_enhanced.tif/full.jpg'},\n",
       " {'title': 'Syrtis Major Hemisphere Enhanced',\n",
       "  'image_url': 'http://astropedia.astrogeology.usgs.gov/download/Mars/Viking/syrtis_major_enhanced.tif/full.jpg'},\n",
       " {'Title': 'Valles Marineris Hemisphere Enhanced',\n",
       "  'image_url': 'http://astropedia.astrogeology.usgs.gov/download/Mars/Viking/valles_marineris_enhanced.tif/full.jpg'})"
      ]
     },
     "execution_count": 109,
     "metadata": {},
     "output_type": "execute_result"
    }
   ],
   "source": [
    "hemisphere_image_urls = (cerberus_hem, shiaparelli_hem, syrtris_hem, valles_marineris_hem)\n",
    "hemisphere_image_urls"
   ]
  },
  {
   "cell_type": "code",
   "execution_count": null,
   "metadata": {},
   "outputs": [],
   "source": []
  }
 ],
 "metadata": {
  "kernelspec": {
   "display_name": "Python 3",
   "language": "python",
   "name": "python3"
  },
  "language_info": {
   "codemirror_mode": {
    "name": "ipython",
    "version": 3
   },
   "file_extension": ".py",
   "mimetype": "text/x-python",
   "name": "python",
   "nbconvert_exporter": "python",
   "pygments_lexer": "ipython3",
   "version": "3.7.3"
  }
 },
 "nbformat": 4,
 "nbformat_minor": 2
}
